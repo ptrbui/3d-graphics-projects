{
 "cells": [
  {
   "cell_type": "markdown",
   "metadata": {
    "scrolled": true
   },
   "source": [
    "# Peter Bui CSCI-580 HW2"
   ]
  },
  {
   "cell_type": "code",
   "execution_count": 37,
   "metadata": {},
   "outputs": [],
   "source": [
    "# PRE-PROCESSING\n",
    "\n",
    "from PIL import Image\n",
    "import json\n",
    "import math\n",
    "\n",
    "im = Image.new('RGB', [256,256], 0x000000)\n",
    "width, height = im.size\n",
    "xres = width\n",
    "yres = height\n",
    "\n",
    "# Loading JSON data\n",
    "path = './teapot.json'\n",
    "with open(path) as json_file:\n",
    "    data = json.load(json_file)\n",
    "\n",
    "# Fill in background w/ color from sample\n",
    "for y in range(height):\n",
    "    for x in range(width):\n",
    "        im.putpixel((x,y), (128,112,96))\n",
    "\n",
    "# Initialize z-buffer to positive infinity\n",
    "zBuffer = []\n",
    "for a in range(height):\n",
    "    bList = []\n",
    "    for b in range(width):\n",
    "        bList.append(float('inf'))\n",
    "    zBuffer.append(bList)"
   ]
  },
  {
   "cell_type": "markdown",
   "metadata": {},
   "source": [
    "**scanTriangle()**<br>\n",
    "a. Perform scan conversion for a single triangle, filling pixels inside its bounding box. <br>\n",
    "b. Check if pixels lay within the frame by using ***clipCoords()*** function. <br>\n",
    "c. Check if pixels lay within the triangle using barycentric coordinates. <br>\n",
    "<br>\n",
    "**Inputs:** <br>\n",
    "v0, v1, v2: Tuples representing (x, y, z) coordinates of the triangle vertices. <br>\n",
    "<br>\n",
    "**Usage:** <br>\n",
    "Called in the final step when rendering each triangle."
   ]
  },
  {
   "cell_type": "code",
   "execution_count": 38,
   "metadata": {},
   "outputs": [],
   "source": [
    "def clipCoords(v):\n",
    "        # Clips coordinates to ensure they are within the valid range.\n",
    "        # First converts the tuple to a list to modify, and then converts back to tuple before returning.\n",
    "        v = list(v)\n",
    "        v[0] = max(0, min(255, v[0]))\n",
    "        v[1] = max(0, min(255, v[1]))\n",
    "        v[2] = max(0, min(255, v[2]))\n",
    "        return tuple(v)\n",
    "\n",
    "def scanTriangle(v0, v1, v2, r, g, b):\n",
    "    \n",
    "    # 1. Calculate xmax, xmin, ymax, ymin\n",
    "    \n",
    "    v0_clipped = clipCoords(v0)\n",
    "    v1_clipped = clipCoords(v1)\n",
    "    v2_clipped = clipCoords(v2)\n",
    "    \n",
    "    xVals = [v0_clipped[0], v1_clipped[0], v2_clipped[0]] \n",
    "    yVals = [v0_clipped[1], v1_clipped[1], v2_clipped[1]] \n",
    "    \n",
    "    xmin = int(math.floor(min(xVals)))\n",
    "    xmax = int(math.ceil(max(xVals)))\n",
    "    ymin = int(math.floor(min(yVals)))\n",
    "    ymax = int(math.ceil(max(yVals)))\n",
    "    \n",
    "    # 2. Define method for lines f01, f12, f20\n",
    "    \n",
    "    x0, y0, z0 = v0\n",
    "    x1, y1, z1 = v1\n",
    "    x2, y2, z2 = v2\n",
    "    \n",
    "    def f01(x,y):\n",
    "        return (y0-y1)*x + (x1-x0)*y + x0*y1-x1*y0\n",
    "    def f12(x,y):\n",
    "        return (y1-y2)*x + (x2-x1)*y + x1*y2-x2*y1\n",
    "    def f20(x,y): \n",
    "        return (y2-y0)*x + (x0-x2)*y + x2*y0-x0*y2\n",
    "    \n",
    "    # 3. Update the zBuffer and place pixel on image (if needed)\n",
    "    \n",
    "    for y in range(ymin, ymax):\n",
    "        for x in range(xmin, xmax): \n",
    "            alpha = f12(x,y) / f12(x0,y0)\n",
    "            beta =  f20(x,y) / f20(x1,y1)\n",
    "            gamma = f01(x,y) / f01(x2,y2)\n",
    "            \n",
    "            # Using barycentric coordinates to see if point lies within triangle!\n",
    "            if (alpha >= 0) and (beta >= 0) and (gamma >= 0):\n",
    "                zAtPixel = alpha*z0 + beta*z1 + gamma*z2\n",
    "                if zAtPixel < zBuffer[x][y]:\n",
    "                    im.putpixel((x,y),(r,g,b))\n",
    "                    zBuffer[x][y] = zAtPixel"
   ]
  },
  {
   "cell_type": "markdown",
   "metadata": {},
   "source": [
    "**computeTriangleColor()** <br>\n",
    "Calculate the color of a triangle based on its normal vector and apply a \"tint\". <br>\n",
    "<br>\n",
    "**Inputs:** <br>\n",
    "normal: A tuple representing the normal vector of the triangle. <br>\n",
    "<br>\n",
    "**Output:** <br>\n",
    "Returns a list containing three values representing the RGB color. <br>\n",
    "<br>\n",
    "**Usage:**<br>\n",
    "a. Ensures that the color values are within the valid range (0 to 255).<br>\n",
    "b. Called for each triangle in the final step to determine its color.<br>"
   ]
  },
  {
   "cell_type": "code",
   "execution_count": 39,
   "metadata": {},
   "outputs": [],
   "source": [
    "def computeTriangleColor(normal):\n",
    "    \n",
    "    # 1. Compute the dot product between our tri's FIRST normal (nx,ny,nz) and an assumed light vector, (0.707,0.5,0.5)\n",
    "    \n",
    "    dotp = float(float(0.707)*normal[0] + float(0.5)*normal[1] + float(0.5)*normal[2])\n",
    "    \n",
    "    # 2. Clamp the dot product to 0..1, which would give you a gray value for the entire tri\n",
    "    \n",
    "    if (dotp < 0.0):\n",
    "        dotp = -dotp\n",
    "    elif (dotp > 1.0):\n",
    "        dotp = 1.0\n",
    "    \n",
    "    # 3. Convert it to a purplish hue [for no good reason!]\n",
    "    \n",
    "    triangleR = float(0.95)*dotp\n",
    "    triangleG = float(0.65)*dotp\n",
    "    triangleB = float(0.88)*dotp\n",
    "    \n",
    "    return [triangleR, triangleG, triangleB]"
   ]
  },
  {
   "cell_type": "markdown",
   "metadata": {},
   "source": [
    "**Final Step: Scanning each Triangle and Rendering Image**\n",
    "> a. Extracts coordinates of the triangle vertices (v0, v1, v2) from our JSON File.<br>\n",
    "> b. Computes the color of the triangle using computeTriangleColor().<br>\n",
    "> c. Ensures color values are within the valid range (0 to 255).<br>\n",
    "> d. Calls scanTriangle() to perform scan conversion for the current triangle.<br>"
   ]
  },
  {
   "cell_type": "code",
   "execution_count": 40,
   "metadata": {},
   "outputs": [
    {
     "name": "stdout",
     "output_type": "stream",
     "text": [
      "Image output successfully.\n"
     ]
    }
   ],
   "source": [
    "for q in range(len(data['data'])):\n",
    "    \n",
    "    Coordinate1 = (data['data'][q]['v0']['v'])\n",
    "    Coordinate2 = (data['data'][q]['v1']['v'])\n",
    "    Coordinate3 = (data['data'][q]['v2']['v'])\n",
    "    \n",
    "    triangleRGB = computeTriangleColor(data['data'][q]['v0']['n'])\n",
    "    triangleR = max(0, min(255, int(math.floor(triangleRGB[0] * 256.0))))\n",
    "    triangleG = max(0, min(255, int(math.floor(triangleRGB[1] * 256.0))))\n",
    "    triangleB = max(0, min(255, int(math.floor(triangleRGB[2] * 256.0))))\n",
    "    \n",
    "    scanTriangle(Coordinate1, Coordinate2, Coordinate3, triangleR, triangleG, triangleB)\n",
    "\n",
    "im = im.save(\"output.ppm\")\n",
    "print(\"Image output successfully.\")"
   ]
  }
 ],
 "metadata": {
  "kernelspec": {
   "display_name": "Python 3 (ipykernel)",
   "language": "python",
   "name": "python3"
  },
  "language_info": {
   "codemirror_mode": {
    "name": "ipython",
    "version": 3
   },
   "file_extension": ".py",
   "mimetype": "text/x-python",
   "name": "python",
   "nbconvert_exporter": "python",
   "pygments_lexer": "ipython3",
   "version": "3.11.5"
  }
 },
 "nbformat": 4,
 "nbformat_minor": 2
}
